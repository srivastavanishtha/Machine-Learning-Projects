{
 "cells": [
  {
   "cell_type": "code",
   "execution_count": 1,
   "metadata": {},
   "outputs": [],
   "source": [
    "import pandas\n",
    "import numpy as np"
   ]
  },
  {
   "cell_type": "code",
   "execution_count": 2,
   "metadata": {},
   "outputs": [],
   "source": [
    "def logistic(x):\n",
    "    return 1.0/(1 + np.exp(-x))\n",
    "\n",
    "def logistic_deriv(x):\n",
    "    return logistic(x) * (1 - logistic(x))"
   ]
  },
  {
   "cell_type": "code",
   "execution_count": 3,
   "metadata": {},
   "outputs": [],
   "source": [
    "LR = 1   \n",
    "\n",
    "I_dim = 3\n",
    "H_dim = 4\n",
    "\n",
    "epoch_count = 1"
   ]
  },
  {
   "cell_type": "markdown",
   "metadata": {},
   "source": [
    "#####np.random.seed(1)"
   ]
  },
  {
   "cell_type": "code",
   "execution_count": 4,
   "metadata": {},
   "outputs": [],
   "source": [
    "weights_ItoH = np.random.uniform(-1, 1, (I_dim, H_dim))\n",
    "weights_HtoO = np.random.uniform(-1, 1, H_dim)"
   ]
  },
  {
   "cell_type": "code",
   "execution_count": 7,
   "metadata": {},
   "outputs": [],
   "source": [
    "preActivation_H = np.zeros(H_dim)\n",
    "postActivation_H = np.zeros(H_dim)"
   ]
  },
  {
   "cell_type": "code",
   "execution_count": null,
   "metadata": {},
   "outputs": [],
   "source": [
    "training_data = pandas.read_excel('Training_data.xlsx')\n",
    "target_output = training_data.output\n",
    "training_data = training_data.drop(['output'], axis=1)\n",
    "training_data = np.asarray(training_data)\n",
    "training_count = len(training_data[:,0])"
   ]
  },
  {
   "cell_type": "code",
   "execution_count": null,
   "metadata": {},
   "outputs": [],
   "source": [
    "validation_data = pandas.read_excel('Validation_data.xlsx')\n",
    "validation_output = validation_data.output\n",
    "validation_data = validation_data.drop(['output'], axis=1)\n",
    "validation_data = np.asarray(validation_data)\n",
    "validation_count = len(validation_data[:,0])"
   ]
  },
  {
   "cell_type": "markdown",
   "metadata": {},
   "source": [
    "# Training"
   ]
  },
  {
   "cell_type": "code",
   "execution_count": null,
   "metadata": {},
   "outputs": [],
   "source": [
    "for epoch in range(epoch_count):\n",
    "    for sample in range(training_count):\n",
    "        for node in range(H_dim):\n",
    "            preActivation_H[node] = np.dot(training_data[sample,:], weights_ItoH[:, node])\n",
    "            postActivation_H[node] = logistic(preActivation_H[node])\n",
    "            \n",
    "        preActivation_O = np.dot(postActivation_H, weights_HtoO)\n",
    "        postActivation_O = logistic(preActivation_O)\n",
    "        \n",
    "        FE = postActivation_O - target_output[sample]\n",
    "        \n",
    "        for H_node in range(H_dim):\n",
    "            S_error = FE * logistic_deriv(preActivation_O)\n",
    "            gradient_HtoO = S_error * postActivation_H[H_node]\n",
    "                       \n",
    "            for I_node in range(I_dim):\n",
    "                input_value = training_data[sample, I_node]\n",
    "                gradient_ItoH = S_error * weights_HtoO[H_node] * logistic_deriv(preActivation_H[H_node]) * input_value\n",
    "                \n",
    "                weights_ItoH[I_node, H_node] -= LR * gradient_ItoH\n",
    "                \n",
    "            weights_HtoO[H_node] -= LR * gradient_HtoO"
   ]
  },
  {
   "cell_type": "markdown",
   "metadata": {},
   "source": [
    "# Validation"
   ]
  },
  {
   "cell_type": "code",
   "execution_count": null,
   "metadata": {},
   "outputs": [],
   "source": [
    "correct_classification_count = 0\n",
    "for sample in range(validation_count):\n",
    "    for node in range(H_dim):\n",
    "        preActivation_H[node] = np.dot(validation_data[sample,:], weights_ItoH[:, node])\n",
    "        postActivation_H[node] = logistic(preActivation_H[node])\n",
    "            \n",
    "    preActivation_O = np.dot(postActivation_H, weights_HtoO)\n",
    "    postActivation_O = logistic(preActivation_O)\n",
    "        \n",
    "    if postActivation_O > 0.5:\n",
    "        output = 1\n",
    "    else:\n",
    "        output = 0     \n",
    "        \n",
    "    if output == validation_output[sample]:\n",
    "        correct_classification_count += 1\n",
    "\n",
    "print('Percentage of correct classifications:')\n",
    "print(correct_classification_count*100/validation_count)"
   ]
  }
 ],
 "metadata": {
  "kernelspec": {
   "display_name": "Python 3",
   "language": "python",
   "name": "python3"
  },
  "language_info": {
   "codemirror_mode": {
    "name": "ipython",
    "version": 3
   },
   "file_extension": ".py",
   "mimetype": "text/x-python",
   "name": "python",
   "nbconvert_exporter": "python",
   "pygments_lexer": "ipython3",
   "version": "3.7.4"
  }
 },
 "nbformat": 4,
 "nbformat_minor": 2
}
